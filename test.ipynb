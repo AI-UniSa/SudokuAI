{
 "cells": [
  {
   "cell_type": "code",
   "execution_count": 5,
   "metadata": {},
   "outputs": [],
   "source": [
    "from training.model_zoo import ModelZoo\n",
    "import torch\n",
    "from training.dataset import SudokuDataset, SudokuStandardize\n",
    "from torch.utils.data import DataLoader\n",
    "import numpy as np"
   ]
  },
  {
   "cell_type": "code",
   "execution_count": 9,
   "metadata": {},
   "outputs": [
    {
     "ename": "TypeError",
     "evalue": "Expected state_dict to be dict-like, got <class 'models.sudoku_CNN.Sudoku_CNN'>.",
     "output_type": "error",
     "traceback": [
      "\u001b[0;31m---------------------------------------------------------------------------\u001b[0m",
      "\u001b[0;31mTypeError\u001b[0m                                 Traceback (most recent call last)",
      "Cell \u001b[0;32mIn[9], line 13\u001b[0m\n\u001b[1;32m     11\u001b[0m model\u001b[38;5;241m.\u001b[39meval()\n\u001b[1;32m     12\u001b[0m model\u001b[38;5;241m.\u001b[39mto(device)\n\u001b[0;32m---> 13\u001b[0m \u001b[43mmodel\u001b[49m\u001b[38;5;241;43m.\u001b[39;49m\u001b[43mload_state_dict\u001b[49m\u001b[43m(\u001b[49m\u001b[43mtorch\u001b[49m\u001b[38;5;241;43m.\u001b[39;49m\u001b[43mload\u001b[49m\u001b[43m(\u001b[49m\u001b[43mweights_path\u001b[49m\u001b[43m)\u001b[49m\u001b[43m)\u001b[49m\n\u001b[1;32m     15\u001b[0m preprocess \u001b[38;5;241m=\u001b[39m SudokuStandardize()\n\u001b[1;32m     16\u001b[0m test_set \u001b[38;5;241m=\u001b[39m SudokuDataset(root\u001b[38;5;241m=\u001b[39mtest_data, preprocess\u001b[38;5;241m=\u001b[39mpreprocess)\n",
      "File \u001b[0;32m~/anaconda3/envs/sudoku/lib/python3.8/site-packages/torch/nn/modules/module.py:2104\u001b[0m, in \u001b[0;36mModule.load_state_dict\u001b[0;34m(self, state_dict, strict, assign)\u001b[0m\n\u001b[1;32m   2069\u001b[0m \u001b[38;5;250m\u001b[39m\u001b[38;5;124mr\u001b[39m\u001b[38;5;124;03m\"\"\"Copy parameters and buffers from :attr:`state_dict` into this module and its descendants.\u001b[39;00m\n\u001b[1;32m   2070\u001b[0m \n\u001b[1;32m   2071\u001b[0m \u001b[38;5;124;03mIf :attr:`strict` is ``True``, then\u001b[39;00m\n\u001b[0;32m   (...)\u001b[0m\n\u001b[1;32m   2101\u001b[0m \u001b[38;5;124;03m    ``RuntimeError``.\u001b[39;00m\n\u001b[1;32m   2102\u001b[0m \u001b[38;5;124;03m\"\"\"\u001b[39;00m\n\u001b[1;32m   2103\u001b[0m \u001b[38;5;28;01mif\u001b[39;00m \u001b[38;5;129;01mnot\u001b[39;00m \u001b[38;5;28misinstance\u001b[39m(state_dict, Mapping):\n\u001b[0;32m-> 2104\u001b[0m     \u001b[38;5;28;01mraise\u001b[39;00m \u001b[38;5;167;01mTypeError\u001b[39;00m(\u001b[38;5;124mf\u001b[39m\u001b[38;5;124m\"\u001b[39m\u001b[38;5;124mExpected state_dict to be dict-like, got \u001b[39m\u001b[38;5;132;01m{\u001b[39;00m\u001b[38;5;28mtype\u001b[39m(state_dict)\u001b[38;5;132;01m}\u001b[39;00m\u001b[38;5;124m.\u001b[39m\u001b[38;5;124m\"\u001b[39m)\n\u001b[1;32m   2106\u001b[0m missing_keys: List[\u001b[38;5;28mstr\u001b[39m] \u001b[38;5;241m=\u001b[39m []\n\u001b[1;32m   2107\u001b[0m unexpected_keys: List[\u001b[38;5;28mstr\u001b[39m] \u001b[38;5;241m=\u001b[39m []\n",
      "\u001b[0;31mTypeError\u001b[0m: Expected state_dict to be dict-like, got <class 'models.sudoku_CNN.Sudoku_CNN'>."
     ]
    }
   ],
   "source": [
    "weights_path = \"checkpoints/Sudoku_MLP 15 Apr 12 59/epoch_7.pth\"\n",
    "device = \"mps\"\n",
    "model_name = \"cnn\"\n",
    "test_data = \"dataset/Kaggle/test.txt\"\n",
    "bs = 32\n",
    "nw = 4\n",
    "\n",
    "# Model initialization\n",
    "m = ModelZoo()\n",
    "model = m.get_model(model_name)\n",
    "model.eval()\n",
    "model.to(device)\n",
    "model.load_state_dict(torch.load(weights_path))\n",
    "\n",
    "preprocess = SudokuStandardize()\n",
    "test_set = SudokuDataset(root=test_data, preprocess=preprocess)\n",
    "\n",
    "test_loader = DataLoader(test_set, batch_size=bs, shuffle=True, num_workers=nw)\n",
    "\n",
    "# Showing what we have loaded\n",
    "print(\"Test set:\\t{} samples\".format(len(test_set)))\n",
    "\n",
    "criterion = m.get_helper(model_name)\n",
    "criterion.to(device)"
   ]
  },
  {
   "cell_type": "code",
   "execution_count": null,
   "metadata": {},
   "outputs": [],
   "source": [
    "x, y = next(iter(test_loader))\n",
    "\n",
    "x = x.to(device)\n",
    "y = y.to(device)\n",
    "\n",
    "with torch.no_grad():\n",
    "    out = model(x)\n",
    "    out = criterion.activate(out)\n",
    "    prediction = criterion.extract(out)\n",
    "\n",
    "print(\"Prediction:\\n\", prediction)\n",
    "print(\"Ground truth:\\n\", y)\n",
    "print(\"Accuracy: \", np.mean((prediction == y).float()))"
   ]
  }
 ],
 "metadata": {
  "kernelspec": {
   "display_name": "sudoku",
   "language": "python",
   "name": "python3"
  },
  "language_info": {
   "codemirror_mode": {
    "name": "ipython",
    "version": 3
   },
   "file_extension": ".py",
   "mimetype": "text/x-python",
   "name": "python",
   "nbconvert_exporter": "python",
   "pygments_lexer": "ipython3",
   "version": "3.8.19"
  }
 },
 "nbformat": 4,
 "nbformat_minor": 2
}
